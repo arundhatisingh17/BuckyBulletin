{
 "cells": [
  {
   "cell_type": "code",
   "execution_count": 10,
   "metadata": {},
   "outputs": [
    {
     "name": "stdout",
     "output_type": "stream",
     "text": [
      "Event Takes Place All Day!\n",
      "Event Takes Place All Day!\n",
      "Event Takes Place All Day!\n",
      "Event Takes Place All Day!\n",
      "Time ranges from 10 a.m. to 4 p.m.\n",
      "Time ranges from 12 a.m. to 1 p.m.\n",
      "Time ranges from 12 a.m. to 4 p.m.\n",
      "Time ranges from 1 a.m. to 2 p.m.\n",
      "Time ranges from 1:30 a.m. to 3 p.m.\n",
      "Time is  2 p.m.\n",
      "Time is  2 p.m.\n",
      "Time is  3 p.m.\n",
      "Time is  4 p.m.\n",
      "Time is  5 p.m.\n"
     ]
    }
   ],
   "source": [
    "from flask import Flask, render_template\n",
    "from bs4 import BeautifulSoup\n",
    "from datetime import datetime\n",
    "import requests\n",
    "import googlemaps\n",
    "import re\n",
    "\n",
    "app = Flask(__name__)\n",
    "\n",
    "present_date = datetime.today().strftime(\"%Y-%m-%d\")\n",
    "\n",
    "\n",
    "url = f\"https://today.wisc.edu/events/day/{present_date}\"\n",
    "response = requests.get(url)\n",
    "soup = BeautifulSoup(response.text, \"html.parser\")\n",
    "\n",
    "\n",
    "events = soup.select(\"li.event-row\")\n",
    "\n",
    "events_list = []\n",
    "\n",
    "for event in events:\n",
    "    title_elements = event.select_one(\"h3.event-title a\").text\n",
    "\n",
    "    location_elements= event.select_one(\"p.event-location\")\n",
    "\n",
    "    if (location_elements):\n",
    "        location_elements.get_text(strip=True)\n",
    "\n",
    "\n",
    "    time_element = event.select(\"p.event-time span.time-hm\")\n",
    "\n",
    "    \n",
    "    am_pm_element = event.select(\"p.event-time\")\n",
    "    am_pm_list = []\n",
    "    if am_pm_element:\n",
    "        full_time_text = am_pm_element[0].get_text(separator=\" \", strip=True)\n",
    "        am_pm_matches = re.findall(r\"(a\\.m\\.|p\\.m\\.)\", full_time_text, re.IGNORECASE)\n",
    "        am_pm_list.append(am_pm_matches)\n",
    "\n",
    "    if not time_element:\n",
    "        print(\"Event Takes Place All Day!\")\n",
    "\n",
    "    if time_element:\n",
    "        if (len(time_element) == 1):\n",
    "            assigned_am_pm = am_pm_matches[0] if am_pm_matches else \"\"\n",
    "            print(\"Time is \", time_element[0].get_text(strip = True), assigned_am_pm)\n",
    "        elif len(time_element) == 2:\n",
    "            if (len(am_pm_matches) == 1):\n",
    "                assigned_am_pm = am_pm_matches[0] if am_pm_matches else \"\"\n",
    "            \n",
    "            elif (len(am_pm_matches) == 2):\n",
    "                start_am_pm, end_am_pm = am_pm_matches\n",
    "\n",
    "            else:\n",
    "                start_am_pm = end_am_pm = \"\"\n",
    "\n",
    "            print(\"Time ranges from\", f\"{time_element[0].text} {start_am_pm}\", \"to\", f\"{time_element[1].text} {end_am_pm}\")\n",
    "\n",
    "\n",
    "\n",
    "    \n",
    "   \n"
   ]
  },
  {
   "cell_type": "code",
   "execution_count": null,
   "metadata": {},
   "outputs": [],
   "source": [
    "# print(soup.prettify()[:20000])"
   ]
  }
 ],
 "metadata": {
  "kernelspec": {
   "display_name": "cuda-gpt",
   "language": "python",
   "name": "cuda"
  },
  "language_info": {
   "codemirror_mode": {
    "name": "ipython",
    "version": 3
   },
   "file_extension": ".py",
   "mimetype": "text/x-python",
   "name": "python",
   "nbconvert_exporter": "python",
   "pygments_lexer": "ipython3",
   "version": "3.11.5"
  }
 },
 "nbformat": 4,
 "nbformat_minor": 2
}
