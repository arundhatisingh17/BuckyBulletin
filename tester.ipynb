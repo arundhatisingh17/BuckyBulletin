{
 "cells": [
  {
   "cell_type": "code",
   "execution_count": 18,
   "metadata": {},
   "outputs": [],
   "source": [
    "from flask import Flask, render_template\n",
    "from bs4 import BeautifulSoup\n",
    "from datetime import datetime\n",
    "import requests\n",
    "import googlemaps\n",
    "import re\n",
    "import json\n",
    "import os\n",
    "\n",
    "app = Flask(__name__)\n",
    "\n",
    "present_date = datetime.today().strftime(\"%Y-%m-%d\")\n",
    "\n",
    "\n",
    "url = f\"https://today.wisc.edu/events/day/{present_date}\"\n",
    "response = requests.get(url)\n",
    "soup = BeautifulSoup(response.text, \"html.parser\")\n",
    "\n",
    "\n",
    "events = soup.select(\"li.event-row\")\n",
    "\n",
    "events_list = []\n",
    "\n",
    "for event in events:\n",
    "    title_element = event.select_one(\"h3.event-title a\")\n",
    "    title = title_element.text.strip()\n",
    "\n",
    "    location_elements= event.select_one(\"p.event-location\")\n",
    "\n",
    "    if (location_elements):\n",
    "        location_elements = location_elements.get_text(strip=True)\n",
    "\n",
    "\n",
    "    time_elements = event.select(\"p.event-time span.time-hm\")\n",
    "    time_values = [t.get_text(strip=True) for t in time_elements]\n",
    "\n",
    "    \n",
    "    am_pm_element = event.select(\"p.event-time\")\n",
    "    am_pm_list = []\n",
    "    if am_pm_element:\n",
    "        full_time_text = am_pm_element[0].get_text(separator=\" \", strip=True)\n",
    "        am_pm_matches = re.findall(r\"(a\\.m\\.|p\\.m\\.)\", full_time_text, re.IGNORECASE)\n",
    "        am_pm_list.append(am_pm_matches)\n",
    "\n",
    "    if time_values:\n",
    "        if (len(time_values) == 1):\n",
    "            assigned_am_pm = am_pm_matches[0] if am_pm_matches else \"\"\n",
    "            start_time = f\"{time_values[0]}{assigned_am_pm}\"\n",
    "            end_time = None\n",
    "\n",
    "        elif len(time_values) == 2:\n",
    "            if (len(am_pm_matches) == 1):\n",
    "                assigned_am_pm = am_pm_matches[0] if am_pm_matches else \"\"\n",
    "            \n",
    "            elif (len(am_pm_matches) == 2):\n",
    "                start_am_pm, end_am_pm = am_pm_matches\n",
    "\n",
    "            else:\n",
    "                start_am_pm = end_am_pm = \"\"\n",
    "\n",
    "            start_time = f\"{time_values[0]}{start_am_pm}\"\n",
    "            end_time = f\"{time_values[1]}{end_am_pm}\"\n",
    "\n",
    "    else:\n",
    "        start_time = \"All Day!\"\n",
    "        end_time = None\n",
    "\n",
    "\n",
    "    \n",
    "    event_data = {\n",
    "        \"title\" : title,\n",
    "        \"location\" : location_elements,\n",
    "        \"start_time\" : start_time,\n",
    "        \"end_time\" : end_time,\n",
    "    }\n",
    "\n",
    "    events_list.append(event_data)\n",
    "\n",
    "\n",
    "\n",
    "if 'events.json' not in os.listdir(\"./\"):\n",
    "    with open(\"events.json\", \"w\") as json_file:\n",
    "        json.dump(events_list, json_file, indent=4)\n"
   ]
  },
  {
   "cell_type": "code",
   "execution_count": null,
   "metadata": {},
   "outputs": [],
   "source": [
    "# print(soup.prettify()[:20000])"
   ]
  },
  {
   "cell_type": "code",
   "execution_count": 19,
   "metadata": {},
   "outputs": [
    {
     "name": "stdout",
     "output_type": "stream",
     "text": [
      "2025-02-23 01:34:36\n"
     ]
    }
   ],
   "source": [
    "from datetime import datetime\n",
    "print(datetime.now().strftime(\"%Y-%m-%d %H:%M:%S\"))\n"
   ]
  }
 ],
 "metadata": {
  "kernelspec": {
   "display_name": "cuda-gpt",
   "language": "python",
   "name": "cuda"
  },
  "language_info": {
   "codemirror_mode": {
    "name": "ipython",
    "version": 3
   },
   "file_extension": ".py",
   "mimetype": "text/x-python",
   "name": "python",
   "nbconvert_exporter": "python",
   "pygments_lexer": "ipython3",
   "version": "3.11.5"
  }
 },
 "nbformat": 4,
 "nbformat_minor": 2
}
